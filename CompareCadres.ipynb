{
 "cells": [
  {
   "cell_type": "code",
   "execution_count": 8,
   "id": "2b3321e0-543d-4682-852f-44aabaa52fcc",
   "metadata": {},
   "outputs": [],
   "source": [
    "import cv2\n",
    "import numpy as np\n",
    "from tensorflow.keras.applications.resnet50 import ResNet50, preprocess_input\n",
    "from tensorflow.keras.preprocessing import image\n",
    "from datetime import datetime"
   ]
  },
  {
   "cell_type": "code",
   "execution_count": 9,
   "id": "c90a8090-7bbb-44a8-af95-aaec441bc536",
   "metadata": {},
   "outputs": [],
   "source": [
    "# Загрузка предварительно обученной модели ResNet50\n",
    "model = ResNet50(weights='imagenet', include_top=False)"
   ]
  },
  {
   "cell_type": "code",
   "execution_count": 10,
   "id": "f803ba98-d83c-433e-a5fa-fc18b15b161b",
   "metadata": {},
   "outputs": [],
   "source": [
    "# Функция для загрузки и предобработки изображения\n",
    "def preprocess_image(img_array):\n",
    "    img = image.array_to_img(img_array, scale=False)\n",
    "    img = img.resize((224, 224))\n",
    "    img_array = image.img_to_array(img)\n",
    "    img_array = np.expand_dims(img_array, axis=0)\n",
    "    img_array = preprocess_input(img_array)\n",
    "    return img_array"
   ]
  },
  {
   "cell_type": "code",
   "execution_count": 11,
   "id": "f79e972d-e9a0-4c55-8bcc-6ca3b73cf12a",
   "metadata": {},
   "outputs": [],
   "source": [
    "def compare_frames(frame1, frame2, threshold):\n",
    "    # Преобразование кадров в градации серого\n",
    "    gray_frame1 = cv2.cvtColor(frame1, cv2.COLOR_BGR2GRAY)\n",
    "    gray_frame2 = cv2.cvtColor(frame2, cv2.COLOR_BGR2GRAY)\n",
    "    \n",
    "    # Сравнение среднеквадратичной ошибки между изображениями\n",
    "    mse = np.mean((gray_frame1 - gray_frame2) ** 2)\n",
    "    \n",
    "    # Если среднеквадратичная ошибка мала, то кадры считаются схожими\n",
    "    return mse < threshold, mse  # Возвращаем также значение MSE"
   ]
  },
  {
   "cell_type": "code",
   "execution_count": 12,
   "id": "1a8c7712-5775-41c5-96c6-1e7d5af842da",
   "metadata": {},
   "outputs": [],
   "source": [
    "original_video_path = 'VideoOriginal.mp4'\n",
    "desync_video_path = 'Video.mp4'"
   ]
  },
  {
   "cell_type": "code",
   "execution_count": 13,
   "id": "7ee95b04-8329-499a-8fb1-89386dc9571d",
   "metadata": {},
   "outputs": [],
   "source": [
    "original_video_capture = cv2.VideoCapture(original_video_path)\n",
    "desync_video_capture = cv2.VideoCapture(desync_video_path)"
   ]
  },
  {
   "cell_type": "code",
   "execution_count": 14,
   "id": "f7ec312f-2b89-4eac-bac5-f77d56a8103d",
   "metadata": {},
   "outputs": [
    {
     "data": {
      "text/plain": [
       "True"
      ]
     },
     "execution_count": 14,
     "metadata": {},
     "output_type": "execute_result"
    }
   ],
   "source": [
    "original_video_capture.set(cv2.CAP_PROP_POS_FRAMES, 0)\n",
    "desync_video_capture.set(cv2.CAP_PROP_POS_FRAMES, 0)"
   ]
  },
  {
   "cell_type": "code",
   "execution_count": 15,
   "id": "79cef0f7-5414-495e-9776-c4fd1294e4ac",
   "metadata": {},
   "outputs": [],
   "source": [
    "# Открытие файл логов\n",
    "log_file = open('History.txt', 'w')"
   ]
  },
  {
   "cell_type": "code",
   "execution_count": 16,
   "id": "d8157caf-ccb4-48a2-884a-22cf736fb6e8",
   "metadata": {},
   "outputs": [],
   "source": [
    "# Чтение первого кадра для обоих видеопотоков\n",
    "original_ret, original_frame = original_video_capture.read()\n",
    "desync_ret, desync_frame = desync_video_capture.read()"
   ]
  },
  {
   "cell_type": "code",
   "execution_count": 17,
   "id": "438afb57-166e-44ca-8363-4a61f580725e",
   "metadata": {},
   "outputs": [],
   "source": [
    "# Установка начального времени\n",
    "current_time = 0"
   ]
  },
  {
   "cell_type": "code",
   "execution_count": 18,
   "id": "e613f43c-4f05-4088-ae22-b14fc0a8d600",
   "metadata": {},
   "outputs": [],
   "source": [
    "while original_ret and desync_ret:\n",
    "    # Сравнение кадров на текущем времени\n",
    "    threshold = 10\n",
    "    match, mse = compare_frames(original_frame, desync_frame, threshold)\n",
    "    \n",
    "    # Запись результата в файл логов\n",
    "    log_file.write(f'{datetime.now()} - Кадры {\"совпали\" if match else \"не совпали\"}. MSE: {mse} на {current_time} секунде видео\\n')\n",
    "    \n",
    "    # Переход к следующему времени в видеопотоках\n",
    "    current_time += 2\n",
    "    original_video_capture.set(cv2.CAP_PROP_POS_MSEC, current_time * 1000)\n",
    "    desync_video_capture.set(cv2.CAP_PROP_POS_MSEC, current_time * 1000)\n",
    "    \n",
    "    # Считывание следующих кадров\n",
    "    original_ret, original_frame = original_video_capture.read()\n",
    "    desync_ret, desync_frame = desync_video_capture.read()"
   ]
  },
  {
   "cell_type": "code",
   "execution_count": 19,
   "id": "caf54e59-b946-4272-9364-f54d8bc2eaaa",
   "metadata": {},
   "outputs": [
    {
     "name": "stdout",
     "output_type": "stream",
     "text": [
      "Сравнение завершено. Результаты записаны в файл логов.\n"
     ]
    }
   ],
   "source": [
    "# Закрытие файл логов\n",
    "log_file.close()\n",
    "\n",
    "# Освобождение ресурсов\n",
    "original_video_capture.release()\n",
    "desync_video_capture.release()\n",
    "\n",
    "print(\"Сравнение завершено. Результаты записаны в файл логов.\")"
   ]
  },
  {
   "cell_type": "code",
   "execution_count": null,
   "id": "68033318-df68-40f1-98d1-17b42cf320aa",
   "metadata": {},
   "outputs": [],
   "source": []
  }
 ],
 "metadata": {
  "kernelspec": {
   "display_name": "Python 3 (ipykernel)",
   "language": "python",
   "name": "python3"
  },
  "language_info": {
   "codemirror_mode": {
    "name": "ipython",
    "version": 3
   },
   "file_extension": ".py",
   "mimetype": "text/x-python",
   "name": "python",
   "nbconvert_exporter": "python",
   "pygments_lexer": "ipython3",
   "version": "3.11.7"
  }
 },
 "nbformat": 4,
 "nbformat_minor": 5
}
